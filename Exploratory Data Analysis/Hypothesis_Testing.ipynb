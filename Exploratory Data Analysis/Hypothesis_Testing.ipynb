{
 "cells": [
  {
   "cell_type": "markdown",
   "metadata": {},
   "source": [
    "## Hypothesis Testing"
   ]
  },
  {
   "cell_type": "code",
   "execution_count": 1,
   "metadata": {},
   "outputs": [
    {
     "name": "stdout",
     "output_type": "stream",
     "text": [
      "Populating the interactive namespace from numpy and matplotlib\n"
     ]
    }
   ],
   "source": [
    "%pylab inline\n",
    "%config InlineBackend.figure_formats=['svg']\n",
    "\n",
    "import matplotlib.pyplot as plt\n",
    "import numpy as np\n",
    "from scipy import stats\n",
    "import math"
   ]
  },
  {
   "cell_type": "markdown",
   "metadata": {},
   "source": [
    "### Null Hypothesis"
   ]
  },
  {
   "cell_type": "markdown",
   "metadata": {},
   "source": [
    "I claim that I can use mystical abilities to predict the outcome of coin flips.\n",
    "\n",
    "You don't think I can.\n",
    "\n",
    "How can we test it?\n",
    "\n",
    "We do an experiment in which I call 100 coin flips. I get 57 right.\n",
    "\n",
    "Am I special or not?"
   ]
  },
  {
   "cell_type": "markdown",
   "metadata": {},
   "source": [
    "### Determine the Null and Alternative hypotheis\n",
    "Writeh the null and alternative hypothesis\n",
    "\n",
    "Null: I cannot predict the outcome of coin flips\n",
    "    \n",
    "Alternative: I can predict"
   ]
  },
  {
   "cell_type": "markdown",
   "metadata": {},
   "source": [
    "Null: I'm not special; my true rate of flip prediction is 0.5.\n",
    "\n",
    "But even under this hypothesis, I could get 57 out of 100 right. So did I get lucky (by random chance) or am I mystical?\n",
    "\n",
    "Alternative: My true rate of flip prediction is greater than 0.5.\n",
    "\n",
    "The thing we're measuring from the experiment, or test statistic, is the number of correct flip predictions out of 100.\n"
   ]
  },
  {
   "cell_type": "code",
   "execution_count": 3,
   "metadata": {},
   "outputs": [
    {
     "name": "stdout",
     "output_type": "stream",
     "text": [
      "9.7%\n"
     ]
    }
   ],
   "source": [
    "from scipy.stats import binom\n",
    "prob=1-binom.cdf(56,100,0.5)\n",
    "\n",
    "print(str(round(prob*100,1))+\"%\")"
   ]
  },
  {
   "cell_type": "markdown",
   "metadata": {},
   "source": [
    "## Exercise\n",
    "Find the number of coin flips a person would need to guess correctly for us to believe they're clairvoyant"
   ]
  },
  {
   "cell_type": "code",
   "execution_count": 4,
   "metadata": {},
   "outputs": [
    {
     "name": "stdout",
     "output_type": "stream",
     "text": [
      "59.0\n"
     ]
    }
   ],
   "source": [
    "from scipy.stats import binom\n",
    "print(binom.ppf(0.95, 100, 0.5)+1)"
   ]
  },
  {
   "cell_type": "code",
   "execution_count": null,
   "metadata": {},
   "outputs": [],
   "source": []
  }
 ],
 "metadata": {
  "kernelspec": {
   "display_name": "Python 3",
   "language": "python",
   "name": "python3"
  },
  "language_info": {
   "codemirror_mode": {
    "name": "ipython",
    "version": 3
   },
   "file_extension": ".py",
   "mimetype": "text/x-python",
   "name": "python",
   "nbconvert_exporter": "python",
   "pygments_lexer": "ipython3",
   "version": "3.7.1"
  }
 },
 "nbformat": 4,
 "nbformat_minor": 2
}
