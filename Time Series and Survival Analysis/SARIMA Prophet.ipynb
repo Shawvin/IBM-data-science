{
 "cells": [
  {
   "cell_type": "markdown",
   "metadata": {},
   "source": [
    "# Machine Learning Foundation\n",
    "## SARIMA and Prophet"
   ]
  },
  {
   "cell_type": "markdown",
   "metadata": {},
   "source": [
    "### Learning Outcomes\n",
    "You should walk away from this notebook with:\n",
    "1. A practical understanding of Autoregressive Integrated Moving Average (ARIMA) models.\n",
    "2. Insight into checking fit of model.\n",
    "3. Learn to create forecasts with ARIMA models in Python.\n",
    "4. A practical understanding of fbprophet\n",
    "5. How to check fit of fbprophet model\n",
    "6. Means of adjusting and improving fbprophet model parameters\n",
    "\n",
    "\n",
    "### Overview: Time Series Modeling Approaches\n",
    "\n",
    "In previous lessons, we explored Python implementations of fundamental time series concepts including stationarity, smoothing, trend, seasonality, and autocorrelation, and built two kinds of models: \n",
    "\n",
    "  * **MA models**: Specify that the current value of the series depends linearly on the series' mean and a set of prior (observed) white noise error terms.\n",
    "  * **AR models**: Specify that the current value of the  series depends linearly on its own previous values and on a stochastic term (an imperfectly predictable term).\n",
    "\n",
    "In the current lesson we will review these concepts as well as combine these two model types into three more complicated time series models: ARMA, ARIMA, and SARIMA. We will then explore a different type of Time Series modeling using __[Facebook Prophet](https://facebook.github.io/prophet/https://facebook.github.io/prophet/)__. \n",
    "\n",
    "__Installation notes:__\n",
    "\n",
    "[Prophet holiday issues](https://stackoverflow.com/questions/60145006/cannot-import-name-easter-from-holidays)\n",
    "\n",
    "To install __[pdarima](https://pypi.org/project/pmdarima/)__ on Anaconda, use:\n",
    "\n",
    "[conda install -c saravji pdarima](https://anaconda.org/saravji/pmdarima)"
   ]
  },
  {
   "cell_type": "code",
   "execution_count": 6,
   "metadata": {},
   "outputs": [],
   "source": [
    "# Setup\n",
    "import pandas as pd\n",
    "from pandas import DataFrame\n",
    "import matplotlib as plt\n",
    "import matplotlib.pyplot as plt\n",
    "from matplotlib import pyplot\n",
    "import seaborn\n",
    "import warnings\n",
    "import seaborn as sns\n",
    "warnings.filterwarnings('ignore')\n",
    "from sklearn.preprocessing import scale\n",
    "\n",
    "\n",
    "\n",
    "import statsmodels.formula.api as sm\n",
    "from statsmodels.compat import lzip\n",
    "import numpy as np\n",
    "import statsmodels.api as sm\n"
   ]
  },
  {
   "cell_type": "code",
   "execution_count": null,
   "metadata": {},
   "outputs": [],
   "source": []
  }
 ],
 "metadata": {
  "kernelspec": {
   "display_name": "Python 3",
   "language": "python",
   "name": "python3"
  },
  "language_info": {
   "codemirror_mode": {
    "name": "ipython",
    "version": 3
   },
   "file_extension": ".py",
   "mimetype": "text/x-python",
   "name": "python",
   "nbconvert_exporter": "python",
   "pygments_lexer": "ipython3",
   "version": "3.7.1"
  }
 },
 "nbformat": 4,
 "nbformat_minor": 2
}
